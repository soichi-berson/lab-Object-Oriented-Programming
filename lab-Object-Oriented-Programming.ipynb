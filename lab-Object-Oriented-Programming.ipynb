{
 "cells": [
  {
   "cell_type": "markdown",
   "id": "897a2979-a5a7-48d1-ba7f-e7bb4773a8c4",
   "metadata": {},
   "source": [
    "# Lab | Object Oriented Programming"
   ]
  },
  {
   "cell_type": "code",
   "execution_count": 2,
   "id": "af9cc569-6294-4d70-9435-7e93313e1165",
   "metadata": {
    "tags": []
   },
   "outputs": [],
   "source": [
    "class Tv:\n",
    "    def __init__(self, on: bool, volume: float, active_channel: int, Input: str, size: float):\n",
    "        try:\n",
    "            if isinstance(on, bool):\n",
    "                self.on = on\n",
    "            else:\n",
    "                raise TypeError(\"on attribute must be a boolean (True or False).\")\n",
    "            \n",
    "            if 0 <= volume <= 100:\n",
    "                self.volume = volume\n",
    "            else:\n",
    "                raise ValueError(\"Volume must be a float between 0 and 100.\")\n",
    "            \n",
    "            if 1 <= active_channel <= 10:\n",
    "                self.active_channel = active_channel\n",
    "            else:\n",
    "                raise ValueError(\"Active channel must be an integer between 1 and 10.\")\n",
    "            \n",
    "            valid_inputs = [\"Anthena\", \"HDMI1\", \"HDMI2\", \"HDMI3\"]\n",
    "            if Input in valid_inputs:\n",
    "                self.input = Input\n",
    "            else:\n",
    "                raise ValueError(\"Input must be one of 'Anthena', 'HDMI1', 'HDMI2', or 'HDMI3'.\")\n",
    "            \n",
    "            valid_sizes = [42, 50, 55, 65, 75]\n",
    "            if size in valid_sizes:\n",
    "                self.size = size\n",
    "            else:\n",
    "                raise ValueError(\"Size must be one of 42, 50, 55, 65, or 75.\")\n",
    "                \n",
    "        except (TypeError, ValueError) as e:\n",
    "            print(f\"Error: {e}\")\n",
    "\n",
    "    def switch_on(self):\n",
    "        self.on = True\n",
    "        print(\"TV is now ON.\")\n",
    "\n",
    "    def switch_off(self):\n",
    "        self.on = False\n",
    "        print(\"TV is now OFF.\")\n",
    "\n",
    "    def set_volume(self, volume: float):\n",
    "        if 0 <= volume <= 100:\n",
    "            self.volume = volume\n",
    "            print(f\"Volume set to {volume}.\")\n",
    "        else:\n",
    "            print(\"Invalid volume value. Please enter a value between 0 and 100.\")\n",
    "\n",
    "    def change_channel(self, channel: int):\n",
    "        if 1 <= channel <= 10:\n",
    "            self.active_channel = channel\n",
    "            print(f\"Switched to channel {channel}.\")\n",
    "        else:\n",
    "            print(\"Invalid channel number. Please enter a value between 1 and 10.\")\n",
    "\n",
    "    def set_input(self, value: str):\n",
    "        valid_inputs = [\"Anthena\", \"HDMI1\", \"HDMI2\", \"HDMI3\"]\n",
    "        if value in valid_inputs:\n",
    "            self.input = value\n",
    "            print(f\"Input set to {value}.\")\n",
    "        else:\n",
    "            print(\"Invalid input. Please choose from 'Anthena', 'HDMI1', 'HDMI2', or 'HDMI3'.\")\n",
    "\n",
    "\n",
    "\n"
   ]
  },
  {
   "cell_type": "markdown",
   "id": "ddae753b-cf5e-47c4-a751-15777c73a6fa",
   "metadata": {},
   "source": [
    "### Experiment:"
   ]
  },
  {
   "cell_type": "code",
   "execution_count": 4,
   "id": "f972e847-c378-49a3-8dca-f80a378a0cd8",
   "metadata": {
    "tags": []
   },
   "outputs": [
    {
     "name": "stdout",
     "output_type": "stream",
     "text": [
      "Error: Active channel must be an integer between 1 and 10.\n",
      "Error: Volume must be a float between 0 and 100.\n"
     ]
    }
   ],
   "source": [
    "tv1 = Tv(True, 80, 12, \"HDMI4\", 60)  # Will raise ValueError for active_channel and size\n",
    "tv2 = Tv(False, 120, 5, \"Anthena\", 42)  # Will raise ValueError for volume\n",
    "tv3 = Tv(True, 40, 3, \"HDMI1\", 50)  # Will create the object successfully\n"
   ]
  },
  {
   "cell_type": "code",
   "execution_count": 5,
   "id": "00bb82e8-5795-429f-888e-7f1d3bacfd90",
   "metadata": {
    "tags": []
   },
   "outputs": [
    {
     "name": "stdout",
     "output_type": "stream",
     "text": [
      "TV is now OFF.\n"
     ]
    }
   ],
   "source": [
    "tv.switch_off()"
   ]
  },
  {
   "cell_type": "code",
   "execution_count": 9,
   "id": "f055f2af-7489-4352-9c8d-9e2f0109eaee",
   "metadata": {
    "tags": []
   },
   "outputs": [
    {
     "name": "stdout",
     "output_type": "stream",
     "text": [
      "TV is now ON.\n"
     ]
    }
   ],
   "source": [
    "tv.switch_on()"
   ]
  },
  {
   "cell_type": "code",
   "execution_count": 6,
   "id": "9581e6b2-9c6e-4cb3-b233-ace3c4c19d9d",
   "metadata": {
    "tags": []
   },
   "outputs": [
    {
     "name": "stdout",
     "output_type": "stream",
     "text": [
      "Volume set to 75.\n"
     ]
    }
   ],
   "source": [
    "tv.set_volume(75)"
   ]
  },
  {
   "cell_type": "code",
   "execution_count": 7,
   "id": "2e9e2ef4-f9bf-4c50-b5c5-905dc50ad7d7",
   "metadata": {
    "tags": []
   },
   "outputs": [
    {
     "name": "stdout",
     "output_type": "stream",
     "text": [
      "Invalid volume value. Please enter a value between 0 and 100.\n"
     ]
    }
   ],
   "source": [
    "tv.set_volume(120)"
   ]
  },
  {
   "cell_type": "code",
   "execution_count": 8,
   "id": "d6e6866a-8f2d-4f4f-bc81-05184f2f656f",
   "metadata": {
    "tags": []
   },
   "outputs": [
    {
     "name": "stdout",
     "output_type": "stream",
     "text": [
      "Switched to channel 5.\n"
     ]
    }
   ],
   "source": [
    "tv.change_channel(5)"
   ]
  },
  {
   "cell_type": "code",
   "execution_count": 10,
   "id": "e136657e-16d8-44ff-89e6-e96e9910128f",
   "metadata": {
    "tags": []
   },
   "outputs": [
    {
     "name": "stdout",
     "output_type": "stream",
     "text": [
      "Input set to HDMI1.\n"
     ]
    }
   ],
   "source": [
    "tv.set_input(\"HDMI1\")"
   ]
  },
  {
   "cell_type": "code",
   "execution_count": 11,
   "id": "838b68e2-1324-43d5-b435-98f06d575db1",
   "metadata": {
    "tags": []
   },
   "outputs": [
    {
     "name": "stdout",
     "output_type": "stream",
     "text": [
      "TV is now OFF.\n"
     ]
    }
   ],
   "source": [
    "tv.switch_off()"
   ]
  },
  {
   "cell_type": "code",
   "execution_count": null,
   "id": "d4e000e6-b010-4a37-9c40-e81905978fdb",
   "metadata": {},
   "outputs": [],
   "source": []
  }
 ],
 "metadata": {
  "kernelspec": {
   "display_name": "Python 3 (ipykernel)",
   "language": "python",
   "name": "python3"
  },
  "language_info": {
   "codemirror_mode": {
    "name": "ipython",
    "version": 3
   },
   "file_extension": ".py",
   "mimetype": "text/x-python",
   "name": "python",
   "nbconvert_exporter": "python",
   "pygments_lexer": "ipython3",
   "version": "3.11.3"
  }
 },
 "nbformat": 4,
 "nbformat_minor": 5
}
